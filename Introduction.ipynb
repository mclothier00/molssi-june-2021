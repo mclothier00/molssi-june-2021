{
 "cells": [
  {
   "cell_type": "markdown",
   "id": "1a58eef6",
   "metadata": {},
   "source": [
    "# Introduction\n",
    "Notebook from the Mercury MolSSI programming workshop."
   ]
  },
  {
   "cell_type": "code",
   "execution_count": 1,
   "id": "51bfc19f",
   "metadata": {},
   "outputs": [
    {
     "data": {
      "text/plain": [
       "10"
      ]
     },
     "execution_count": 1,
     "metadata": {},
     "output_type": "execute_result"
    }
   ],
   "source": [
    "3+7"
   ]
  },
  {
   "cell_type": "code",
   "execution_count": 2,
   "id": "2f70303d",
   "metadata": {},
   "outputs": [],
   "source": [
    "# variable_name = value\n",
    "deltaH = -541.5 #kJ/mol\n",
    "deltaS = 10.4 #kJ/(mol*K)\n",
    "temperature = 298 #K\n",
    "deltaG = deltaH - temperature*deltaS"
   ]
  },
  {
   "cell_type": "code",
   "execution_count": 3,
   "id": "ae2ff7e9",
   "metadata": {},
   "outputs": [
    {
     "name": "stdout",
     "output_type": "stream",
     "text": [
      "-3640.7000000000003\n"
     ]
    }
   ],
   "source": [
    "print(deltaG)"
   ]
  },
  {
   "cell_type": "code",
   "execution_count": 4,
   "id": "96cef10f",
   "metadata": {},
   "outputs": [
    {
     "name": "stdout",
     "output_type": "stream",
     "text": [
      "-3640.7000000000003\n"
     ]
    }
   ],
   "source": [
    "deltaG*1000\n",
    "print(deltaG)"
   ]
  },
  {
   "cell_type": "code",
   "execution_count": 6,
   "id": "59d9c065",
   "metadata": {},
   "outputs": [
    {
     "name": "stdout",
     "output_type": "stream",
     "text": [
      "-3640.7000000000003\n",
      "-3640700.0000000005\n"
     ]
    }
   ],
   "source": [
    "deltaG_joules = deltaG*1000\n",
    "print(deltaG)\n",
    "print(deltaG_joules)"
   ]
  },
  {
   "cell_type": "code",
   "execution_count": 7,
   "id": "b36fd433",
   "metadata": {},
   "outputs": [],
   "source": [
    "#deltaG = deltaG*1000 is overwriting, changing value of deltaG"
   ]
  },
  {
   "cell_type": "code",
   "execution_count": 8,
   "id": "a0e69780",
   "metadata": {},
   "outputs": [
    {
     "name": "stdout",
     "output_type": "stream",
     "text": [
      "-3640.7000000000003\n"
     ]
    }
   ],
   "source": [
    "deltaH , deltaS, temperature = -541.5, 10.4, 298 \n",
    "#equal to code above\n",
    "deltaG = deltaH - temperature*deltaS\n",
    "print(deltaG)"
   ]
  },
  {
   "cell_type": "markdown",
   "id": "c19c1db6",
   "metadata": {},
   "source": [
    "## Data types"
   ]
  },
  {
   "cell_type": "code",
   "execution_count": 9,
   "id": "eb0fbfc1",
   "metadata": {},
   "outputs": [
    {
     "data": {
      "text/plain": [
       "float"
      ]
     },
     "execution_count": 9,
     "metadata": {},
     "output_type": "execute_result"
    }
   ],
   "source": [
    "type(deltaG)"
   ]
  },
  {
   "cell_type": "code",
   "execution_count": 10,
   "id": "19ea73dd",
   "metadata": {},
   "outputs": [],
   "source": [
    "deltaG_string = str(deltaG)"
   ]
  },
  {
   "cell_type": "code",
   "execution_count": 11,
   "id": "1615e505",
   "metadata": {},
   "outputs": [
    {
     "data": {
      "text/plain": [
       "str"
      ]
     },
     "execution_count": 11,
     "metadata": {},
     "output_type": "execute_result"
    }
   ],
   "source": [
    "type(deltaG_string)"
   ]
  },
  {
   "cell_type": "code",
   "execution_count": 12,
   "id": "f3242e5d",
   "metadata": {},
   "outputs": [
    {
     "name": "stdout",
     "output_type": "stream",
     "text": [
      "-3640.7000000000003\n"
     ]
    }
   ],
   "source": [
    "print(deltaG_string)"
   ]
  },
  {
   "cell_type": "code",
   "execution_count": 13,
   "id": "08ca6151",
   "metadata": {},
   "outputs": [
    {
     "ename": "TypeError",
     "evalue": "can only concatenate str (not \"int\") to str",
     "output_type": "error",
     "traceback": [
      "\u001b[1;31m---------------------------------------------------------------------------\u001b[0m",
      "\u001b[1;31mTypeError\u001b[0m                                 Traceback (most recent call last)",
      "\u001b[1;32m<ipython-input-13-5d9d80712449>\u001b[0m in \u001b[0;36m<module>\u001b[1;34m\u001b[0m\n\u001b[1;32m----> 1\u001b[1;33m \u001b[0mdeltaG_string\u001b[0m \u001b[1;33m+\u001b[0m \u001b[1;36m200\u001b[0m\u001b[1;33m\u001b[0m\u001b[1;33m\u001b[0m\u001b[0m\n\u001b[0m",
      "\u001b[1;31mTypeError\u001b[0m: can only concatenate str (not \"int\") to str"
     ]
    }
   ],
   "source": [
    "deltaG_string + 200"
   ]
  },
  {
   "cell_type": "markdown",
   "id": "56c332c3",
   "metadata": {},
   "source": [
    "## Lists"
   ]
  },
  {
   "cell_type": "code",
   "execution_count": 14,
   "id": "d66348a6",
   "metadata": {},
   "outputs": [],
   "source": [
    "energy_kcal = [-13.4, -2.7, 5.4, 42.1] #list"
   ]
  },
  {
   "cell_type": "code",
   "execution_count": 15,
   "id": "ab16366e",
   "metadata": {},
   "outputs": [],
   "source": [
    "energy_length = len(energy_kcal)"
   ]
  },
  {
   "cell_type": "code",
   "execution_count": 16,
   "id": "dc454c50",
   "metadata": {},
   "outputs": [
    {
     "name": "stdout",
     "output_type": "stream",
     "text": [
      "4\n"
     ]
    }
   ],
   "source": [
    "print(energy_length)"
   ]
  },
  {
   "cell_type": "code",
   "execution_count": 18,
   "id": "bf832b2f",
   "metadata": {},
   "outputs": [
    {
     "name": "stdout",
     "output_type": "stream",
     "text": [
      "The length of my list is 4 .\n"
     ]
    }
   ],
   "source": [
    "print('The length of my list is', energy_length, '.')"
   ]
  },
  {
   "cell_type": "code",
   "execution_count": 20,
   "id": "60480499",
   "metadata": {},
   "outputs": [
    {
     "name": "stdout",
     "output_type": "stream",
     "text": [
      "The length of my list is 4.\n"
     ]
    }
   ],
   "source": [
    "print(F'The length of my list is {energy_length}.')"
   ]
  },
  {
   "cell_type": "code",
   "execution_count": 21,
   "id": "1c4dd2b6",
   "metadata": {},
   "outputs": [
    {
     "name": "stdout",
     "output_type": "stream",
     "text": [
      "[-13.4, -2.7, 5.4, 42.1]\n"
     ]
    }
   ],
   "source": [
    "print(energy_kcal)"
   ]
  },
  {
   "cell_type": "code",
   "execution_count": 22,
   "id": "c431fd57",
   "metadata": {},
   "outputs": [
    {
     "name": "stdout",
     "output_type": "stream",
     "text": [
      "-2.7\n"
     ]
    }
   ],
   "source": [
    "print(energy_kcal[1])"
   ]
  },
  {
   "cell_type": "code",
   "execution_count": 23,
   "id": "2ce3da21",
   "metadata": {},
   "outputs": [
    {
     "name": "stdout",
     "output_type": "stream",
     "text": [
      "-11.296800000000001\n"
     ]
    }
   ],
   "source": [
    "energy_kilojoules = energy_kcal[1]*4.184\n",
    "print(energy_kilojoules)"
   ]
  },
  {
   "cell_type": "markdown",
   "id": "ca827f06",
   "metadata": {},
   "source": [
    "## Taking slices"
   ]
  },
  {
   "cell_type": "code",
   "execution_count": 25,
   "id": "d1dec416",
   "metadata": {},
   "outputs": [
    {
     "name": "stdout",
     "output_type": "stream",
     "text": [
      "[-13.4, -2.7]\n"
     ]
    }
   ],
   "source": [
    "# new_list = list_name[start:end]\n",
    "short_list = energy_kcal[0:2] #up to but not including 2\n",
    "print(short_list)"
   ]
  },
  {
   "cell_type": "code",
   "execution_count": 27,
   "id": "1712e60f",
   "metadata": {},
   "outputs": [
    {
     "name": "stdout",
     "output_type": "stream",
     "text": [
      "slice1 is [-2.7, 5.4, 42.1]\n",
      "slice2 is [-13.4, -2.7, 5.4]\n"
     ]
    }
   ],
   "source": [
    "slice1 = energy_kcal[1:]\n",
    "slice2 = energy_kcal[:3]\n",
    "print(F'slice1 is {slice1}')\n",
    "print(F'slice2 is {slice2}')"
   ]
  },
  {
   "cell_type": "code",
   "execution_count": 28,
   "id": "0669c5ba",
   "metadata": {},
   "outputs": [
    {
     "name": "stdout",
     "output_type": "stream",
     "text": [
      "[-13.4, -2.7, 5.4, 42.1]\n"
     ]
    }
   ],
   "source": [
    "print(energy_kcal)"
   ]
  },
  {
   "cell_type": "code",
   "execution_count": 29,
   "id": "aa9adf9e",
   "metadata": {},
   "outputs": [
    {
     "name": "stdout",
     "output_type": "stream",
     "text": [
      "[-13.4, -2.7, 5.4, 42.1]\n"
     ]
    }
   ],
   "source": [
    "energy_kcal[0:2]\n",
    "print(energy_kcal) # must give slice new name"
   ]
  },
  {
   "cell_type": "code",
   "execution_count": 31,
   "id": "22ff99f4",
   "metadata": {},
   "outputs": [
    {
     "name": "stdout",
     "output_type": "stream",
     "text": [
      "-56.0656\n",
      "-11.296800000000001\n",
      "22.593600000000002\n",
      "176.1464\n"
     ]
    }
   ],
   "source": [
    "# for variable in list:\n",
    "#    do things using variable\n",
    "for number in energy_kcal: # 'number' = element, could be any word\n",
    "    kJ = number*4.184\n",
    "    print(kJ)"
   ]
  },
  {
   "cell_type": "code",
   "execution_count": 33,
   "id": "0a3a0544",
   "metadata": {},
   "outputs": [],
   "source": [
    "# list_name.append(new_thing)\n",
    "\n",
    "energy_kJ = []\n",
    "\n",
    "for number in energy_kcal:\n",
    "    kJ = number*4.184\n",
    "    energy_kJ.append(kJ)"
   ]
  },
  {
   "cell_type": "code",
   "execution_count": 34,
   "id": "05e49b37",
   "metadata": {},
   "outputs": [
    {
     "name": "stdout",
     "output_type": "stream",
     "text": [
      "[-56.0656, -11.296800000000001, 22.593600000000002, 176.1464]\n"
     ]
    }
   ],
   "source": [
    "print(energy_kJ)"
   ]
  },
  {
   "cell_type": "markdown",
   "id": "b395399b",
   "metadata": {},
   "source": [
    "## Making choices using logic in a for loop"
   ]
  },
  {
   "cell_type": "code",
   "execution_count": 36,
   "id": "b4a5e417",
   "metadata": {},
   "outputs": [
    {
     "name": "stdout",
     "output_type": "stream",
     "text": [
      "[-56.0656, -11.296800000000001]\n"
     ]
    }
   ],
   "source": [
    "negative_energy = []\n",
    "\n",
    "for number in energy_kJ:\n",
    "    if (number < 0):\n",
    "        negative_energy.append(number)\n",
    "\n",
    "print(negative_energy)"
   ]
  },
  {
   "cell_type": "markdown",
   "id": "1e09a078",
   "metadata": {},
   "source": [
    "Other conditionals\n",
    "- equal to ==\n",
    "- not equal to !=\n",
    "- greater than >\n",
    "- less than <\n",
    "- greater than or equal to >=\n",
    "- less than or equal to <=\n",
    "\n",
    "Can also use and, or, and not to check more than one condition."
   ]
  },
  {
   "cell_type": "code",
   "execution_count": 37,
   "id": "9d9a0847",
   "metadata": {},
   "outputs": [
    {
     "name": "stdout",
     "output_type": "stream",
     "text": [
      "[-56.0656, -11.296800000000001]\n"
     ]
    }
   ],
   "source": [
    "negative_energy = []\n",
    "\n",
    "for number in energy_kJ:\n",
    "    if (number < 0) or number == 0:\n",
    "        negative_energy.append(number)\n",
    "\n",
    "print(negative_energy)"
   ]
  },
  {
   "cell_type": "code",
   "execution_count": null,
   "id": "952430ab",
   "metadata": {},
   "outputs": [],
   "source": []
  }
 ],
 "metadata": {
  "kernelspec": {
   "display_name": "Python 3",
   "language": "python",
   "name": "python3"
  },
  "language_info": {
   "codemirror_mode": {
    "name": "ipython",
    "version": 3
   },
   "file_extension": ".py",
   "mimetype": "text/x-python",
   "name": "python",
   "nbconvert_exporter": "python",
   "pygments_lexer": "ipython3",
   "version": "3.8.8"
  }
 },
 "nbformat": 4,
 "nbformat_minor": 5
}
