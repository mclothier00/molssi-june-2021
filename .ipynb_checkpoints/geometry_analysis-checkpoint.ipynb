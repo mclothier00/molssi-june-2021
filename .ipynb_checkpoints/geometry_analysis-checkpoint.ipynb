{
 "cells": [
  {
   "cell_type": "markdown",
   "id": "9a7e0e75",
   "metadata": {},
   "source": [
    "# Homework Assignment 2\n",
    "You will be analyzing an xyz file for water (water.xyz) and measuring the distances between all the atoms in the molecule. The file is located in the data folder of your workshop materials. The output of your code should look like:\n",
    "\n",
    "    O to O : 0.0\n",
    "    O to H1 : 0.969\n",
    "    O to H2 : 0.969\n",
    "    H1 to O : 0.969\n",
    "    H1 to H1 : 0.0\n",
    "    H1 to H2 : 1.527\n",
    "    H2 to O : 0.969\n",
    "    H2 to H1 : 1.527\n",
    "    H2 to H2 : 0.0\n",
    "\n",
    "To do this you will need to use the distance formula. You will need to square stuff and take the square root. To take the square root, you will use a function from numpy, numpy.sqrt(). To square something, use ** notation. As in, 3**2 = 9."
   ]
  },
  {
   "cell_type": "code",
   "execution_count": 2,
   "id": "22679d89",
   "metadata": {},
   "outputs": [],
   "source": [
    "import os\n",
    "import numpy"
   ]
  },
  {
   "cell_type": "code",
   "execution_count": 17,
   "id": "0480fbc5",
   "metadata": {},
   "outputs": [
    {
     "name": "stdout",
     "output_type": "stream",
     "text": [
      "data\\water.xyz\n"
     ]
    }
   ],
   "source": [
    "water_distance = os.path.join('data','water.xyz')\n",
    "print(water_distance)\n",
    "outfile = open(water_distance,'r')\n",
    "data = outfile.readlines()\n",
    "outfile.close()"
   ]
  },
  {
   "cell_type": "code",
   "execution_count": 21,
   "id": "d92980af",
   "metadata": {},
   "outputs": [
    {
     "name": "stdout",
     "output_type": "stream",
     "text": [
      "3\n",
      "\n",
      "Water xyz file\n",
      "\n",
      "O        0.000000     -0.007156      0.965491\n",
      "\n",
      "H1      -0.000000      0.001486     -0.003471\n",
      "\n",
      "H2       0.000000      0.931026      1.207929\n",
      "\n"
     ]
    }
   ],
   "source": [
    "for line in data:\n",
    "    coord_lines = line\n",
    "    print(coord_lines)\n",
    "\n",
    "# distances = numpy.genfromtxt(fname=water_distance, delimiter = ',', dtype='unicode')\n",
    "# print(distances)"
   ]
  },
  {
   "cell_type": "code",
   "execution_count": 23,
   "id": "ad010cf5",
   "metadata": {},
   "outputs": [
    {
     "ename": "NameError",
     "evalue": "name 'O' is not defined",
     "output_type": "error",
     "traceback": [
      "\u001b[1;31m---------------------------------------------------------------------------\u001b[0m",
      "\u001b[1;31mNameError\u001b[0m                                 Traceback (most recent call last)",
      "\u001b[1;32m<ipython-input-23-334aeb4a03d4>\u001b[0m in \u001b[0;36m<module>\u001b[1;34m\u001b[0m\n\u001b[1;32m----> 1\u001b[1;33m \u001b[1;32mif\u001b[0m \u001b[0mO\u001b[0m \u001b[1;32mor\u001b[0m \u001b[0mH\u001b[0m \u001b[1;32min\u001b[0m \u001b[0mcoord_lines\u001b[0m\u001b[1;33m:\u001b[0m\u001b[1;33m\u001b[0m\u001b[1;33m\u001b[0m\u001b[0m\n\u001b[0m\u001b[0;32m      2\u001b[0m     \u001b[0mcoord\u001b[0m \u001b[1;33m=\u001b[0m \u001b[0mcoord_lines\u001b[0m\u001b[1;33m.\u001b[0m\u001b[0msplit\u001b[0m\u001b[1;33m(\u001b[0m\u001b[1;33m)\u001b[0m\u001b[1;33m\u001b[0m\u001b[1;33m\u001b[0m\u001b[0m\n\u001b[0;32m      3\u001b[0m     \u001b[0mprint\u001b[0m\u001b[1;33m(\u001b[0m\u001b[0mcoord\u001b[0m\u001b[1;33m)\u001b[0m\u001b[1;33m\u001b[0m\u001b[1;33m\u001b[0m\u001b[0m\n\u001b[0;32m      4\u001b[0m \u001b[1;33m\u001b[0m\u001b[0m\n\u001b[0;32m      5\u001b[0m \u001b[1;31m# data = distances[2:]\u001b[0m\u001b[1;33m\u001b[0m\u001b[1;33m\u001b[0m\u001b[1;33m\u001b[0m\u001b[0m\n",
      "\u001b[1;31mNameError\u001b[0m: name 'O' is not defined"
     ]
    }
   ],
   "source": [
    "coord = coord_lines.split()\n",
    "print(coord)\n",
    "\n",
    "# data = distances[2:]\n",
    "# print(data)"
   ]
  },
  {
   "cell_type": "code",
   "execution_count": 16,
   "id": "89477a08",
   "metadata": {},
   "outputs": [
    {
     "name": "stdout",
     "output_type": "stream",
     "text": [
      "O        0.000000     -0.007156      0.965491\n"
     ]
    },
    {
     "ename": "AttributeError",
     "evalue": "'numpy.ndarray' object has no attribute 'split'",
     "output_type": "error",
     "traceback": [
      "\u001b[1;31m---------------------------------------------------------------------------\u001b[0m",
      "\u001b[1;31mAttributeError\u001b[0m                            Traceback (most recent call last)",
      "\u001b[1;32m<ipython-input-16-464910094cdb>\u001b[0m in \u001b[0;36m<module>\u001b[1;34m\u001b[0m\n\u001b[0;32m      4\u001b[0m \u001b[0melement0\u001b[0m \u001b[1;33m=\u001b[0m \u001b[0mdata\u001b[0m\u001b[1;33m[\u001b[0m\u001b[1;36m0\u001b[0m\u001b[1;33m]\u001b[0m\u001b[1;33m\u001b[0m\u001b[1;33m\u001b[0m\u001b[0m\n\u001b[0;32m      5\u001b[0m \u001b[0mprint\u001b[0m\u001b[1;33m(\u001b[0m\u001b[0melement0\u001b[0m\u001b[1;33m)\u001b[0m\u001b[1;33m\u001b[0m\u001b[1;33m\u001b[0m\u001b[0m\n\u001b[1;32m----> 6\u001b[1;33m \u001b[0mcoord\u001b[0m \u001b[1;33m=\u001b[0m \u001b[0mdata\u001b[0m\u001b[1;33m.\u001b[0m\u001b[0msplit\u001b[0m\u001b[1;33m(\u001b[0m\u001b[1;33m)\u001b[0m\u001b[1;33m\u001b[0m\u001b[1;33m\u001b[0m\u001b[0m\n\u001b[0m\u001b[0;32m      7\u001b[0m \u001b[0mprint\u001b[0m\u001b[1;33m(\u001b[0m\u001b[0mcoord\u001b[0m\u001b[1;33m)\u001b[0m\u001b[1;33m\u001b[0m\u001b[1;33m\u001b[0m\u001b[0m\n\u001b[0;32m      8\u001b[0m \u001b[0mcoord\u001b[0m \u001b[1;33m=\u001b[0m \u001b[0mcoord\u001b[0m\u001b[1;33m.\u001b[0m\u001b[0mastype\u001b[0m\u001b[1;33m(\u001b[0m\u001b[0mnumpy\u001b[0m\u001b[1;33m.\u001b[0m\u001b[0mfloat\u001b[0m\u001b[1;33m)\u001b[0m\u001b[1;33m\u001b[0m\u001b[1;33m\u001b[0m\u001b[0m\n",
      "\u001b[1;31mAttributeError\u001b[0m: 'numpy.ndarray' object has no attribute 'split'"
     ]
    }
   ],
   "source": [
    "# cannot split data file; need to isolate coordinate number to convert to float but cannot\n",
    "# or do x,y,z values?\n",
    "\n",
    "element0 = data[0]\n",
    "print(element0)\n",
    "coord = data.split()\n",
    "print(coord)\n",
    "coord = coord.astype(numpy.float)\n",
    "O_coord = coord[0,1:] # first row, only three columns\n",
    "H1_coord = coord[1,1:]\n",
    "H2_coord = cord[2,1:]\n",
    "print(O_coord)\n",
    "x = coord[:,1] # all rows but first column\n",
    "y = coord[:,2] \n",
    "z = coord[:,3] \n",
    "print(x)"
   ]
  },
  {
   "cell_type": "code",
   "execution_count": 66,
   "id": "cf40a57d",
   "metadata": {},
   "outputs": [
    {
     "name": "stdout",
     "output_type": "stream",
     "text": [
      "45\n"
     ]
    }
   ],
   "source": [
    "num_rows = len(atoms)\n",
    "print(num_rows)"
   ]
  },
  {
   "cell_type": "code",
   "execution_count": 68,
   "id": "7dfb2546",
   "metadata": {},
   "outputs": [
    {
     "ename": "SyntaxError",
     "evalue": "invalid syntax (<ipython-input-68-2dbda89804d7>, line 3)",
     "output_type": "error",
     "traceback": [
      "\u001b[1;36m  File \u001b[1;32m\"<ipython-input-68-2dbda89804d7>\"\u001b[1;36m, line \u001b[1;32m3\u001b[0m\n\u001b[1;33m    row = data[]\u001b[0m\n\u001b[1;37m               ^\u001b[0m\n\u001b[1;31mSyntaxError\u001b[0m\u001b[1;31m:\u001b[0m invalid syntax\n"
     ]
    }
   ],
   "source": [
    "# ?? figure out after split file\n",
    "for i in range(1,num_rows):\n",
    "    row = data[]\n",
    "    eq = \n",
    "    distance = numpy.sqrt(eq)\n",
    "    print(F'{} to {ii} : {distance})\n",
    "    #calculation and print statement goes here"
   ]
  }
 ],
 "metadata": {
  "kernelspec": {
   "display_name": "Python 3",
   "language": "python",
   "name": "python3"
  },
  "language_info": {
   "codemirror_mode": {
    "name": "ipython",
    "version": 3
   },
   "file_extension": ".py",
   "mimetype": "text/x-python",
   "name": "python",
   "nbconvert_exporter": "python",
   "pygments_lexer": "ipython3",
   "version": "3.8.8"
  }
 },
 "nbformat": 4,
 "nbformat_minor": 5
}
