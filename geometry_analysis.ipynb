{
 "cells": [
  {
   "cell_type": "markdown",
   "id": "9a7e0e75",
   "metadata": {},
   "source": [
    "# Homework Assignment 2\n",
    "You will be analyzing an xyz file for water (water.xyz) and measuring the distances between all the atoms in the molecule. The file is located in the data folder of your workshop materials. The output of your code should look like:\n",
    "\n",
    "    O to O : 0.0\n",
    "    O to H1 : 0.969\n",
    "    O to H2 : 0.969\n",
    "    H1 to O : 0.969\n",
    "    H1 to H1 : 0.0\n",
    "    H1 to H2 : 1.527\n",
    "    H2 to O : 0.969\n",
    "    H2 to H1 : 1.527\n",
    "    H2 to H2 : 0.0\n",
    "\n",
    "To do this you will need to use the distance formula. You will need to square stuff and take the square root. To take the square root, you will use a function from numpy, numpy.sqrt(). To square something, use ** notation. As in, 3**2 = 9."
   ]
  },
  {
   "cell_type": "code",
   "execution_count": 1,
   "id": "22679d89",
   "metadata": {},
   "outputs": [],
   "source": [
    "import os\n",
    "import numpy"
   ]
  },
  {
   "cell_type": "code",
   "execution_count": 2,
   "id": "0480fbc5",
   "metadata": {},
   "outputs": [
    {
     "name": "stdout",
     "output_type": "stream",
     "text": [
      "data\\water.xyz\n"
     ]
    }
   ],
   "source": [
    "water_distance = os.path.join('data','water.xyz')\n",
    "print(water_distance)"
   ]
  },
  {
   "cell_type": "code",
   "execution_count": 7,
   "id": "d92980af",
   "metadata": {},
   "outputs": [
    {
     "name": "stdout",
     "output_type": "stream",
     "text": [
      "[['O' '0.000000' '-0.007156' '0.965491']\n",
      " ['H1' '-0.000000' '0.001486' '-0.003471']\n",
      " ['H2' '0.000000' '0.931026' '1.207929']]\n"
     ]
    }
   ],
   "source": [
    "data = numpy.genfromtxt(fname=water_distance, dtype='unicode', skip_header=2)\n",
    "\n",
    "print(data)"
   ]
  },
  {
   "cell_type": "code",
   "execution_count": 10,
   "id": "ad010cf5",
   "metadata": {},
   "outputs": [
    {
     "name": "stdout",
     "output_type": "stream",
     "text": [
      "['O' 'H1' 'H2']\n",
      "[[ 0.       -0.007156  0.965491]\n",
      " [-0.        0.001486 -0.003471]\n",
      " [ 0.        0.931026  1.207929]]\n",
      "['0.000000' '-0.000000' '0.000000']\n",
      "['-0.007156' '0.001486' '0.931026']\n",
      "['0.965491' '-0.003471' '1.207929']\n"
     ]
    },
    {
     "name": "stderr",
     "output_type": "stream",
     "text": [
      "<ipython-input-10-41e5c4b38273>:5: DeprecationWarning: `np.float` is a deprecated alias for the builtin `float`. To silence this warning, use `float` by itself. Doing this will not modify any behavior and is safe. If you specifically wanted the numpy scalar type, use `np.float64` here.\n",
      "Deprecated in NumPy 1.20; for more details and guidance: https://numpy.org/devdocs/release/1.20.0-notes.html#deprecations\n",
      "  coord = coord.astype(numpy.float)\n"
     ]
    }
   ],
   "source": [
    "# need to seperate each column and split\n",
    "atom = data[:,0]\n",
    "print(atom)\n",
    "coord = data[:,1:]\n",
    "coord = coord.astype(numpy.float)\n",
    "print(coord)\n",
    "\n",
    "# my code:\n",
    "x_str = data[:,1]\n",
    "print(x_str)\n",
    "y_str = data[:,2]\n",
    "print(y_str)\n",
    "z_str = data[:,3]\n",
    "print(z_str)"
   ]
  },
  {
   "cell_type": "code",
   "execution_count": 5,
   "id": "3480b270",
   "metadata": {},
   "outputs": [
    {
     "name": "stdout",
     "output_type": "stream",
     "text": [
      "[ 0. -0.  0.]\n",
      "[-0.007156  0.001486  0.931026]\n",
      "[ 0.965491 -0.003471  1.207929]\n"
     ]
    }
   ],
   "source": [
    "x = x_str.astype(float)\n",
    "print(x)\n",
    "y = y_str.astype(float)\n",
    "print(y)\n",
    "z = z_str.astype(float)\n",
    "print(z)"
   ]
  },
  {
   "cell_type": "code",
   "execution_count": 39,
   "id": "d317555c",
   "metadata": {},
   "outputs": [
    {
     "name": "stdout",
     "output_type": "stream",
     "text": [
      "O to O : 0.000\n",
      "O to H1 : 0.969\n",
      "O to H2 : 0.969\n",
      "H1 to O : 0.969\n",
      "H1 to H1 : 0.000\n",
      "H1 to H2 : 1.527\n",
      "H2 to O : 0.969\n",
      "H2 to H1 : 1.527\n",
      "H2 to H2 : 0.000\n"
     ]
    }
   ],
   "source": [
    "length = len(x)\n",
    "\n",
    "num_atoms = len(atom)\n",
    "\n",
    "# (my work) nest two for loops instead of creating a for loop with two values! range should also be number of atoms not \n",
    "# total expected results \n",
    "for i in range(0,length):\n",
    "    for j in range(0,length):\n",
    "        eq = ((x[j] - x[i])**2) + ((y[j] - y[i])**2) + ((z[j] - z[i])**2)\n",
    "        distance = numpy.sqrt(eq)\n",
    "        print(F'{atom[i]} to {atom[j]} : {distance:.3f}')"
   ]
  },
  {
   "cell_type": "code",
   "execution_count": 40,
   "id": "e7c0afa2",
   "metadata": {},
   "outputs": [
    {
     "name": "stdout",
     "output_type": "stream",
     "text": [
      "H1 to O : 0.000\n",
      "H1 to H1 : 0.969\n",
      "H1 to H2 : 0.969\n",
      "H1 to O : 0.969\n",
      "H1 to H1 : 0.000\n",
      "H1 to H2 : 1.527\n",
      "H1 to O : 0.969\n",
      "H1 to H1 : 1.527\n",
      "H1 to H2 : 0.000\n"
     ]
    }
   ],
   "source": [
    "# her code\n",
    "for i in range(0,num_atoms):\n",
    "    for j in range(0,num_atoms):\n",
    "        x_distance = coord[i,0] - coord[j,0]\n",
    "        y_distance = coord[i,1] - coord[j,1]\n",
    "        z_distance = coord[i,2] - coord[j,2]\n",
    "        distance = numpy.sqrt(x_distance**2 + y_distance**2 + z_distance**2)\n",
    "        print(F'{atom[1]} to {atom[j]} : {distance:.3f}')"
   ]
  },
  {
   "cell_type": "markdown",
   "id": "93b80401",
   "metadata": {},
   "source": [
    "End of homeowkr assignment; beginning of lesson 3."
   ]
  },
  {
   "cell_type": "code",
   "execution_count": 41,
   "id": "8a820517",
   "metadata": {},
   "outputs": [
    {
     "name": "stdout",
     "output_type": "stream",
     "text": [
      "O to H1 : 0.969\n",
      "O to H2 : 0.969\n",
      "H1 to O : 0.969\n",
      "H2 to O : 0.969\n"
     ]
    }
   ],
   "source": [
    "# Modify code to only print atoms that are actually bonding using arbitrary rule that distance must be less than 1.527 for \n",
    "# bonding atoms. (modified my own code)\n",
    "\n",
    "for i in range(0,length):\n",
    "    for j in range(0,length):\n",
    "        eq = ((x[j] - x[i])**2) + ((y[j] - y[i])**2) + ((z[j] - z[i])**2)\n",
    "        distance = numpy.sqrt(eq)\n",
    "        if 0 < distance < 1.5:   # could also write if distance < 1.5 and distance > 0:\n",
    "            print(F'{atom[i]} to {atom[j]} : {distance:.3f}')"
   ]
  },
  {
   "cell_type": "code",
   "execution_count": 49,
   "id": "f71a5145",
   "metadata": {},
   "outputs": [
    {
     "name": "stdout",
     "output_type": "stream",
     "text": [
      "O to H1 : 0.969\n",
      "O to H2 : 0.969\n"
     ]
    }
   ],
   "source": [
    "# Use condition that i < j to prevent duplicating distances. \n",
    "for i in range(0,length):\n",
    "    for j in range(0,length):\n",
    "        if i < j:\n",
    "            eq = ((x[j] - x[i])**2) + ((y[j] - y[i])**2) + ((z[j] - z[i])**2)\n",
    "            distance = numpy.sqrt(eq)\n",
    "            if 0 < distance < 1.5:\n",
    "                print(F'{atom[i]} to {atom[j]} : {distance:.3f}')"
   ]
  },
  {
   "cell_type": "markdown",
   "id": "1d3c3f67",
   "metadata": {},
   "source": [
    "## Writing and using functions"
   ]
  },
  {
   "cell_type": "code",
   "execution_count": 43,
   "id": "486e905f",
   "metadata": {},
   "outputs": [],
   "source": [
    "# function - code that does a particular mathematical operation (ex: numpy.sqrt is a function someone else has written)\n",
    "# want a function to do just one mathematical operation\n",
    "\n",
    "# def  function_name(parameters):\n",
    "    # ** body of your function **\n",
    "    # ** write code using parameters to calculate something **\n",
    "    # return value_to_return"
   ]
  },
  {
   "cell_type": "code",
   "execution_count": 45,
   "id": "1ad13300",
   "metadata": {},
   "outputs": [],
   "source": [
    "# function must take simplest inputs/outputs you can think of; don't overthink!\n",
    "def calculate_distance(coords1, coords2):\n",
    "    x_distance = coords1[0] - coords2[0]\n",
    "    y_distance = coords1[1] - coords2[1]\n",
    "    z_distance = coords1[2] - coords2[2]\n",
    "    distance = numpy.sqrt(x_distance**2 + y_distance**2 + z_distance**2)\n",
    "    return distance"
   ]
  },
  {
   "cell_type": "code",
   "execution_count": 48,
   "id": "2aad94a9",
   "metadata": {},
   "outputs": [
    {
     "data": {
      "text/plain": [
       "1.0"
      ]
     },
     "execution_count": 48,
     "metadata": {},
     "output_type": "execute_result"
    }
   ],
   "source": [
    "calculate_distance([0, 0, 0], [0, 0,1])"
   ]
  },
  {
   "cell_type": "code",
   "execution_count": 47,
   "id": "cda3b169",
   "metadata": {},
   "outputs": [
    {
     "data": {
      "text/plain": [
       "1.7320508075688772"
      ]
     },
     "execution_count": 47,
     "metadata": {},
     "output_type": "execute_result"
    }
   ],
   "source": [
    "calculate_distance([0, 0, 0], [1, 1,1])"
   ]
  },
  {
   "cell_type": "code",
   "execution_count": 53,
   "id": "e0b1478d",
   "metadata": {},
   "outputs": [
    {
     "name": "stdout",
     "output_type": "stream",
     "text": [
      "O to H1 : 0.969\n",
      "O to H2 : 0.969\n"
     ]
    }
   ],
   "source": [
    "# must use coordinate slice for this; x,y,z slices would not work\n",
    "for i in range(0,length):\n",
    "    for j in range(0,length):\n",
    "        if i < j:\n",
    "            distance = calculate_distance(coord[i], coord[j])\n",
    "            if 0 < distance < 1.5:\n",
    "                print(F'{atom[i]} to {atom[j]} : {distance:.3f}')"
   ]
  },
  {
   "cell_type": "code",
   "execution_count": 55,
   "id": "df7e68b6",
   "metadata": {},
   "outputs": [],
   "source": [
    "# Write a function to check and see if a distance is a bond.\n",
    "# Boolean operators in python are True and False\n",
    "def bond_check(atom_distance):\n",
    "    if atom_distance > 0 and atom_distance < 1.5:\n",
    "        return True\n",
    "    else: \n",
    "        return False"
   ]
  },
  {
   "cell_type": "code",
   "execution_count": 56,
   "id": "9a413cda",
   "metadata": {},
   "outputs": [
    {
     "data": {
      "text/plain": [
       "False"
      ]
     },
     "execution_count": 56,
     "metadata": {},
     "output_type": "execute_result"
    }
   ],
   "source": [
    "bond_check(1.7)"
   ]
  },
  {
   "cell_type": "code",
   "execution_count": 57,
   "id": "109d86ea",
   "metadata": {},
   "outputs": [
    {
     "data": {
      "text/plain": [
       "True"
      ]
     },
     "execution_count": 57,
     "metadata": {},
     "output_type": "execute_result"
    }
   ],
   "source": [
    "bond_check(1.2)"
   ]
  },
  {
   "cell_type": "code",
   "execution_count": 58,
   "id": "9d6190f1",
   "metadata": {},
   "outputs": [
    {
     "data": {
      "text/plain": [
       "False"
      ]
     },
     "execution_count": 58,
     "metadata": {},
     "output_type": "execute_result"
    }
   ],
   "source": [
    "bond_check(-50)"
   ]
  },
  {
   "cell_type": "code",
   "execution_count": 59,
   "id": "abceea41",
   "metadata": {},
   "outputs": [],
   "source": [
    "# Modify bond_check function to take a minimum and a maximum length as an input.\n",
    "# Python will now give error if min and max are not specified.\n",
    "def bond_check(atom_distance, min_length, max_length):\n",
    "    if atom_distance > min_length and atom_distance < max_length:\n",
    "        return True\n",
    "    else: \n",
    "        return False"
   ]
  },
  {
   "cell_type": "code",
   "execution_count": 60,
   "id": "de6073ee",
   "metadata": {},
   "outputs": [
    {
     "data": {
      "text/plain": [
       "True"
      ]
     },
     "execution_count": 60,
     "metadata": {},
     "output_type": "execute_result"
    }
   ],
   "source": [
    "bond_check(1.7,0,2)"
   ]
  },
  {
   "cell_type": "code",
   "execution_count": 61,
   "id": "9d81f788",
   "metadata": {},
   "outputs": [
    {
     "ename": "TypeError",
     "evalue": "bond_check() missing 2 required positional arguments: 'min_length' and 'max_length'",
     "output_type": "error",
     "traceback": [
      "\u001b[1;31m---------------------------------------------------------------------------\u001b[0m",
      "\u001b[1;31mTypeError\u001b[0m                                 Traceback (most recent call last)",
      "\u001b[1;32m<ipython-input-61-26b5d9c18225>\u001b[0m in \u001b[0;36m<module>\u001b[1;34m\u001b[0m\n\u001b[1;32m----> 1\u001b[1;33m \u001b[0mbond_check\u001b[0m\u001b[1;33m(\u001b[0m\u001b[1;36m1.7\u001b[0m\u001b[1;33m)\u001b[0m\u001b[1;33m\u001b[0m\u001b[1;33m\u001b[0m\u001b[0m\n\u001b[0m",
      "\u001b[1;31mTypeError\u001b[0m: bond_check() missing 2 required positional arguments: 'min_length' and 'max_length'"
     ]
    }
   ],
   "source": [
    "bond_check(1.7)"
   ]
  },
  {
   "cell_type": "code",
   "execution_count": 65,
   "id": "603817ab",
   "metadata": {},
   "outputs": [],
   "source": [
    "# 0 and 1.5 are default min and max values\n",
    "# write help documentation inside \"\"\"\n",
    "def bond_check(atom_distance, min_length=0, max_length=1.5):\n",
    "    \"\"\"\n",
    "    Checks if a distance is a bond based on a minimum and a maximum\n",
    "    Inputs: distance, minimum length for bond, maximum length for bond\n",
    "    Default: minimum: 0 angstroms, maimum: 1.5 angstroms\n",
    "    \"\"\"\n",
    "    if atom_distance > min_length and atom_distance < max_length:\n",
    "        return True\n",
    "    else: \n",
    "        return False"
   ]
  },
  {
   "cell_type": "code",
   "execution_count": 66,
   "id": "1c04f263",
   "metadata": {},
   "outputs": [
    {
     "data": {
      "text/plain": [
       "False"
      ]
     },
     "execution_count": 66,
     "metadata": {},
     "output_type": "execute_result"
    }
   ],
   "source": [
    "bond_check(1.7)"
   ]
  },
  {
   "cell_type": "code",
   "execution_count": 67,
   "id": "635e288c",
   "metadata": {},
   "outputs": [
    {
     "data": {
      "text/plain": [
       "True"
      ]
     },
     "execution_count": 67,
     "metadata": {},
     "output_type": "execute_result"
    }
   ],
   "source": [
    "bond_check(1.7,max_length=2.0)"
   ]
  },
  {
   "cell_type": "code",
   "execution_count": 68,
   "id": "1476ef4c",
   "metadata": {},
   "outputs": [
    {
     "name": "stdout",
     "output_type": "stream",
     "text": [
      "Help on function bond_check in module __main__:\n",
      "\n",
      "bond_check(atom_distance, min_length=0, max_length=1.5)\n",
      "    Checks if a distance is a bond based on a minimum and a maximum\n",
      "    Inputs: distance, minimum length for bond, maximum length for bond\n",
      "    Default: minimum: 0 angstroms, maimum: 1.5 angstroms\n",
      "\n"
     ]
    }
   ],
   "source": [
    "help(bond_check)"
   ]
  },
  {
   "cell_type": "code",
   "execution_count": 69,
   "id": "2d1459de",
   "metadata": {},
   "outputs": [
    {
     "name": "stdout",
     "output_type": "stream",
     "text": [
      "O to H1 : 0.969\n",
      "O to H2 : 0.969\n"
     ]
    }
   ],
   "source": [
    "for i in range(0,length):\n",
    "    for j in range(0,length):\n",
    "        if i < j:\n",
    "            distance = calculate_distance(coord[i], coord[j])\n",
    "            if bond_check(distance) is True:\n",
    "                print(F'{atom[i]} to {atom[j]} : {distance:.3f}')"
   ]
  },
  {
   "cell_type": "code",
   "execution_count": 72,
   "id": "3dfc4aeb",
   "metadata": {},
   "outputs": [],
   "source": [
    "# Write a new function called open_xyz that opens and processes an xyz file. Your function should accept a filepath for the\n",
    "# input.\n",
    "\n",
    "#my code:\n",
    "def open_xyz(filename):\n",
    "    data = numpy.genfromtxt(fname=filename, dtype='unicode', skip_header=2)\n",
    "    atom = data[:,0]\n",
    "    coord = data[:,1:]\n",
    "    coord = coord.astype(numpy.float)\n",
    "    length = len(atom)\n",
    "    for i in range(0,length):\n",
    "        for j in range(0,length):\n",
    "            if i < j:\n",
    "                distance = calculate_distance(coord[i], coord[j])\n",
    "                if bond_check(distance) is True:\n",
    "                    print(F'{atom[i]} to {atom[j]} : {distance:.3f}')\n",
    "    return"
   ]
  },
  {
   "cell_type": "code",
   "execution_count": 73,
   "id": "5d224be1",
   "metadata": {},
   "outputs": [
    {
     "name": "stdout",
     "output_type": "stream",
     "text": [
      "O to H1 : 0.969\n",
      "O to H2 : 0.969\n"
     ]
    },
    {
     "name": "stderr",
     "output_type": "stream",
     "text": [
      "<ipython-input-72-617f2c6bcdac>:8: DeprecationWarning: `np.float` is a deprecated alias for the builtin `float`. To silence this warning, use `float` by itself. Doing this will not modify any behavior and is safe. If you specifically wanted the numpy scalar type, use `np.float64` here.\n",
      "Deprecated in NumPy 1.20; for more details and guidance: https://numpy.org/devdocs/release/1.20.0-notes.html#deprecations\n",
      "  coord = coord.astype(numpy.float)\n"
     ]
    }
   ],
   "source": [
    "open_xyz(water_distance)"
   ]
  },
  {
   "cell_type": "code",
   "execution_count": 74,
   "id": "c2522bc1",
   "metadata": {},
   "outputs": [],
   "source": [
    "# her code:\n",
    "def open_xyz(filename):\n",
    "    \"\"\"\n",
    "    This function opens a standard xyz file.\n",
    "    It returns the symbols as string and the coordinates as floats.\n",
    "    \"\"\"\n",
    "    data = numpy.genfromtxt(fname=filename, dtype='unicode', skip_header=2)\n",
    "    atom = data[:,0]\n",
    "    coord = data[:,1:]\n",
    "    coord = coord.astype(numpy.float)\n",
    "    return symbols, coord"
   ]
  },
  {
   "cell_type": "code",
   "execution_count": 81,
   "id": "ec5e59f7",
   "metadata": {},
   "outputs": [
    {
     "name": "stdout",
     "output_type": "stream",
     "text": [
      "O to H1 : 0.969\n",
      "O to H2 : 0.969\n"
     ]
    },
    {
     "name": "stderr",
     "output_type": "stream",
     "text": [
      "<ipython-input-81-4374e9a875df>:30: DeprecationWarning: `np.float` is a deprecated alias for the builtin `float`. To silence this warning, use `float` by itself. Doing this will not modify any behavior and is safe. If you specifically wanted the numpy scalar type, use `np.float64` here.\n",
      "Deprecated in NumPy 1.20; for more details and guidance: https://numpy.org/devdocs/release/1.20.0-notes.html#deprecations\n",
      "  coord = coord.astype(numpy.float) #spyder and windows dislikes numpy; works with just float\n"
     ]
    }
   ],
   "source": [
    "import os \n",
    "import numpy\n",
    "\n",
    "def calculate_distance(coords1, coords2):\n",
    "    x_distance = coords1[0] - coords2[0]\n",
    "    y_distance = coords1[1] - coords2[1]\n",
    "    z_distance = coords1[2] - coords2[2]\n",
    "    distance = numpy.sqrt(x_distance**2 + y_distance**2 + z_distance**2)\n",
    "    return distance\n",
    "\n",
    "def bond_check(atom_distance, min_length=0, max_length=1.5):\n",
    "    \"\"\"\n",
    "    Checks if a distance is a bond based on a minimum and a maximum\n",
    "    Inputs: distance, minimum length for bond, maximum length for bond\n",
    "    Default: minimum: 0 angstroms, maimum: 1.5 angstroms\n",
    "    \"\"\"\n",
    "    if atom_distance > min_length and atom_distance < max_length:\n",
    "        return True\n",
    "    else: \n",
    "        return False\n",
    "    \n",
    "def open_xyz(filename):\n",
    "    \"\"\"\n",
    "    This function opens a standard xyz file.\n",
    "    It returns the symbols as string and the coordinates as floats.\n",
    "    \"\"\"\n",
    "    data = numpy.genfromtxt(fname=filename, dtype='unicode', skip_header=2)\n",
    "    atom = data[:,0]\n",
    "    coord = data[:,1:]\n",
    "    coord = coord.astype(numpy.float) #spyder and windows dislikes numpy; works with just float\n",
    "    return atom, coord\n",
    "\n",
    "file_location = os.path.join('data','water.xyz')\n",
    "atom, coordinates = open_xyz(file_location)\n",
    "num_atoms = len(atom)\n",
    "for i in range(0,num_atoms):\n",
    "    for j in range(0,num_atoms):\n",
    "        if i < j:\n",
    "            distance = calculate_distance(coord[i],coord[j])\n",
    "            if bond_check(distance) is True:\n",
    "                print(F'{atom[i]} to {atom[j]} : {distance:.3f}')"
   ]
  },
  {
   "cell_type": "code",
   "execution_count": null,
   "id": "f97a1f2f",
   "metadata": {},
   "outputs": [],
   "source": []
  }
 ],
 "metadata": {
  "kernelspec": {
   "display_name": "Python 3",
   "language": "python",
   "name": "python3"
  },
  "language_info": {
   "codemirror_mode": {
    "name": "ipython",
    "version": 3
   },
   "file_extension": ".py",
   "mimetype": "text/x-python",
   "name": "python",
   "nbconvert_exporter": "python",
   "pygments_lexer": "ipython3",
   "version": "3.8.8"
  }
 },
 "nbformat": 4,
 "nbformat_minor": 5
}
